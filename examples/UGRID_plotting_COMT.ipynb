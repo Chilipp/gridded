{
 "cells": [
  {
   "cell_type": "markdown",
   "metadata": {},
   "source": [
    "# Test out standardized ADCIRC, SELFE and FVCOM datasets\n",
    "    \n",
    "The datasets being accessed here are NetCDF files from ADCIRC, SELFE and FVCOM, with attributes added or modified virtually using NcML to meet the [UGRID conevntions standard for unstructured grid models](https://github.com/ugrid-conventions/ugrid-conventions/blob/v0.9.0/ugrid-conventions.md). \n",
    "\n",
    "This example was developed for the Integrated Ocean Observing System (IOOS) Coastal and Ocean Modeling Testbed. \n",
    "\n",
    "    https://ioos.noaa.gov/project/coastal-ocean-modeling-testbed-projects/\n",
    "\n",
    "\n",
    "You can quickly and easily set up a conda environemnt that will run this by installing the conda_requirements_dev.txt file included in the `gridded` repo:\n",
    "\n",
    "```\n",
    "conda install --file conda_requirements_dev.txt\n",
    "```\n",
    "\n",
    "(ported from the examples in pyugrid)       "
   ]
  },
  {
   "cell_type": "code",
   "execution_count": 1,
   "metadata": {},
   "outputs": [
    {
     "name": "stdout",
     "output_type": "stream",
     "text": [
      "Successfully loaded gridded version: 0.0.7\n"
     ]
    }
   ],
   "source": [
    "# get set up:\n",
    "%matplotlib inline\n",
    "\n",
    "from __future__ import print_function\n",
    "\n",
    "# lets make sure gridded import first!\n",
    "import gridded\n",
    "\n",
    "# other useful packages\n",
    "\n",
    "from datetime import datetime\n",
    "import numpy as np\n",
    "\n",
    "import matplotlib.pyplot as plt\n",
    "import matplotlib.tri as tri\n",
    "\n",
    "import cartopy\n",
    "import cartopy.crs as ccrs\n",
    "from cartopy.mpl.gridliner import LONGITUDE_FORMATTER, LATITUDE_FORMATTER\n",
    "\n",
    "#import netCDF4\n",
    "\n",
    "print('Successfully loaded gridded version: {}'.format(gridded.__version__))\n"
   ]
  },
  {
   "cell_type": "markdown",
   "metadata": {},
   "source": [
    "## Define which models to work with\n",
    "\n",
    "And set up some parameters."
   ]
  },
  {
   "cell_type": "code",
   "execution_count": 2,
   "metadata": {},
   "outputs": [],
   "source": [
    "# model urls:\n",
    "models = dict(ADCIRC='http://comt.sura.org/thredds/dodsC/data/comt_1_archive/inundation_tropical/UND_ADCIRC/Hurricane_Rita_2D_final_run_without_waves',\n",
    "              FVCOM='http://comt.sura.org/thredds/dodsC/data/comt_1_archive/inundation_tropical/USF_FVCOM/Hurricane_Rita_2D_final_run_without_waves',\n",
    "              SELFE='http://comt.sura.org/thredds/dodsC/data/comt_1_archive/inundation_tropical/VIMS_SELFE/Hurricane_Rita_2D_final_run_without_waves')\n",
    "\n",
    "bbox = [-95, -85, 27, 32]  # Set the bounding box.\n",
    "variable = 'sea_surface_height_above_geoid'  # CF standard_name (or long_name, if no standard_name).\n",
    "contour_levels = np.arange(-1, 5.0, 0.2)  # Set the contour levels.\n",
    "start_time = datetime(2005, 9, 24, 5, 0, 0)  # UTC time"
   ]
  },
  {
   "cell_type": "markdown",
   "metadata": {},
   "source": [
    "## Read the data\n"
   ]
  },
  {
   "cell_type": "code",
   "execution_count": 3,
   "metadata": {},
   "outputs": [],
   "source": [
    "# load up a gridded.dataset of the ADCIRC model:\n",
    "ds = gridded.Dataset(models['SELFE'])"
   ]
  },
  {
   "cell_type": "markdown",
   "metadata": {},
   "source": [
    "### Get some information about this dataset"
   ]
  },
  {
   "cell_type": "code",
   "execution_count": 4,
   "metadata": {},
   "outputs": [
    {
     "name": "stdout",
     "output_type": "stream",
     "text": [
      "UGrid object:\n",
      "Number of nodes: 592761\n",
      "Number of faces: 1166747 with 3 vertices per face\n"
     ]
    }
   ],
   "source": [
    "# Information about the grid:\n",
    "print(ds.grid.info)"
   ]
  },
  {
   "cell_type": "code",
   "execution_count": 5,
   "metadata": {},
   "outputs": [
    {
     "name": "stdout",
     "output_type": "stream",
     "text": [
      "Variables available and their standard names:\n",
      "\n",
      "depth : depth_below_geoid\n",
      "x : longitude\n",
      "y : latitude\n",
      "dahv_u : barotropic_eastward_sea_water_velocity\n",
      "dahv_v : barotropic_northward_sea_water_velocity\n",
      "elev : sea_surface_height_above_geoid\n",
      "elevmax : maximum_sea_surface_height_above_geoid\n"
     ]
    }
   ],
   "source": [
    "# what variables are there\"\n",
    "print(\"Variables available and their standard names:\\n\")\n",
    "for name, var in ds.variables.items():\n",
    "    try:\n",
    "        print(name, \":\", var.attributes['standard_name'])\n",
    "    except KeyError:\n",
    "        pass\n",
    "    "
   ]
  },
  {
   "cell_type": "code",
   "execution_count": 6,
   "metadata": {},
   "outputs": [
    {
     "ename": "KeyError",
     "evalue": "'zeta'",
     "output_type": "error",
     "traceback": [
      "\u001b[1;31m---------------------------------------------------------------------------\u001b[0m",
      "\u001b[1;31mKeyError\u001b[0m                                  Traceback (most recent call last)",
      "\u001b[1;32m<ipython-input-6-27c5ebce1f57>\u001b[0m in \u001b[0;36m<module>\u001b[1;34m()\u001b[0m\n\u001b[0;32m      1\u001b[0m \u001b[1;31m# we are interested in the sea surface height:\u001b[0m\u001b[1;33m\u001b[0m\u001b[1;33m\u001b[0m\u001b[0m\n\u001b[1;32m----> 2\u001b[1;33m \u001b[0mssh\u001b[0m \u001b[1;33m=\u001b[0m \u001b[0mds\u001b[0m\u001b[1;33m.\u001b[0m\u001b[0mvariables\u001b[0m\u001b[1;33m[\u001b[0m\u001b[1;34m'zeta'\u001b[0m\u001b[1;33m]\u001b[0m\u001b[1;33m\u001b[0m\u001b[0m\n\u001b[0m\u001b[0;32m      3\u001b[0m \u001b[1;33m\u001b[0m\u001b[0m\n\u001b[0;32m      4\u001b[0m \u001b[1;31m# what times is it good for?\u001b[0m\u001b[1;33m\u001b[0m\u001b[1;33m\u001b[0m\u001b[0m\n\u001b[0;32m      5\u001b[0m \u001b[0mprint\u001b[0m\u001b[1;33m(\u001b[0m\u001b[1;34m\"minimum time:\"\u001b[0m\u001b[1;33m,\u001b[0m \u001b[0mssh\u001b[0m\u001b[1;33m.\u001b[0m\u001b[0mtime\u001b[0m\u001b[1;33m.\u001b[0m\u001b[0mmin_time\u001b[0m\u001b[1;33m)\u001b[0m\u001b[1;33m\u001b[0m\u001b[0m\n",
      "\u001b[1;31mKeyError\u001b[0m: 'zeta'"
     ]
    }
   ],
   "source": [
    "# we are interested in the sea surface height:\n",
    "ssh = ds.variables['zeta']\n",
    "\n",
    "# what times is it good for?\n",
    "print(\"minimum time:\", ssh.time.min_time)\n",
    "print(\"manimum time:\", ssh.time.max_time)"
   ]
  },
  {
   "cell_type": "markdown",
   "metadata": {},
   "source": [
    "### Make the matplotlib triangulation object\n",
    "\n",
    "NOTE: we should build some of this into the grid object."
   ]
  },
  {
   "cell_type": "code",
   "execution_count": null,
   "metadata": {
    "collapsed": true
   },
   "outputs": [],
   "source": [
    "# note that we are working with just the Variable object now...\n",
    "lon = ssh.grid.node_lon\n",
    "lat = ssh.grid.node_lat\n",
    "faces = ssh.grid.faces\n",
    "\n",
    "triang = tri.Triangulation(lon, lat, triangles=faces)"
   ]
  },
  {
   "cell_type": "code",
   "execution_count": null,
   "metadata": {
    "collapsed": true
   },
   "outputs": [],
   "source": [
    "# extract the data at the time we want:\n",
    "# in this case, at the native nodes\n",
    "# NOTE: there should be a better way to get this than calling the interpolation function..\n",
    "data = ssh.at(ssh.grid.nodes, start_time)\n",
    "# NOTE: I'm getting some data masked -- something is odd. \n",
    "# Nope it's expected - J"
   ]
  },
  {
   "cell_type": "code",
   "execution_count": null,
   "metadata": {},
   "outputs": [],
   "source": [
    "# NOTE: good to put this in gridded.plotting...\n",
    "# make a cartopy map:\n",
    "def make_map(projection=ccrs.PlateCarree()):\n",
    "    fig, ax = plt.subplots(figsize=(16, 6),\n",
    "                           subplot_kw=dict(projection=projection))\n",
    "    ax.add_feature(cartopy.feature.LAND, zorder=1, alpha = 0.5)\n",
    "    gl = ax.gridlines(draw_labels=True)\n",
    "    gl.xlabels_top = gl.ylabels_right = False\n",
    "    gl.xformatter = LONGITUDE_FORMATTER\n",
    "    gl.yformatter = LATITUDE_FORMATTER\n",
    "    return fig, ax"
   ]
  },
  {
   "cell_type": "code",
   "execution_count": null,
   "metadata": {},
   "outputs": [],
   "source": [
    "fig, ax = make_map()\n",
    "ax.set_extent(bbox)\n",
    "#Data grid lines\n",
    "ax.triplot(triang, '-k',alpha=0.3)\n",
    "\n",
    "#Contours\n",
    "ax.tricontour(triang, data, colors='k', levels=contour_levels)\n",
    "cs = ax.tricontourf(triang, data, levels=contour_levels)\n",
    "\n",
    "cbar = fig.colorbar(cs, fraction=0.046, pad=0.04)\n",
    "\n",
    "time_string = start_time.isoformat()\n",
    "title = ax.set_title('{}\\n{}\\n{}'.format(variable,\n",
    "                                         time_string,\n",
    "                                         ssh.attributes['standard_name']))"
   ]
  },
  {
   "cell_type": "code",
   "execution_count": null,
   "metadata": {
    "collapsed": true
   },
   "outputs": [],
   "source": []
  },
  {
   "cell_type": "code",
   "execution_count": null,
   "metadata": {
    "collapsed": true
   },
   "outputs": [],
   "source": []
  }
 ],
 "metadata": {
  "kernelspec": {
   "display_name": "Python 3",
   "language": "python",
   "name": "python3"
  },
  "language_info": {
   "codemirror_mode": {
    "name": "ipython",
    "version": 3
   },
   "file_extension": ".py",
   "mimetype": "text/x-python",
   "name": "python",
   "nbconvert_exporter": "python",
   "pygments_lexer": "ipython3",
   "version": "3.6.1"
  }
 },
 "nbformat": 4,
 "nbformat_minor": 2
}
