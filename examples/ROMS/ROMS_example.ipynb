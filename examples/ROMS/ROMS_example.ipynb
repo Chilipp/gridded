{
 "cells": [
  {
   "cell_type": "markdown",
   "metadata": {},
   "source": [
    "# Example of working with ROMS output\n",
    "\n",
    "(only barely started)\n"
   ]
  },
  {
   "cell_type": "code",
   "execution_count": 35,
   "metadata": {
    "collapsed": true
   },
   "outputs": [],
   "source": [
    "import numpy as np\n",
    "import datetime\n",
    "import gridded\n",
    "\n",
    "% matplotlib inline\n",
    "\n"
   ]
  },
  {
   "cell_type": "code",
   "execution_count": 2,
   "metadata": {
    "collapsed": true
   },
   "outputs": [],
   "source": [
    "# load up the file\n",
    "\n",
    "filename = \"testfile_2016-08-01.nc\"\n",
    "\n",
    "gr = gridded.Dataset(filename)\n"
   ]
  },
  {
   "cell_type": "code",
   "execution_count": 6,
   "metadata": {},
   "outputs": [
    {
     "name": "stdout",
     "output_type": "stream",
     "text": [
      "<gridded.grids.Grid_S object at 0x103d096d0>\n",
      "[u'tke', u'sustr', u'mask_v', u'mask_u', u'mask_rho', u'Uwind', u'zeta', u'angle', u'AKs', u'AKv', u'ssflux', u'shflux', u'pn', u'pm', u'Vwind', u'dye_03', u'mask_psi', u'svstr', u'gls', u'temp', u'f', u'h', u'u', u'w', u'v', u'dye_04', u'salt', u'dye_02', u'dye_01']\n"
     ]
    }
   ],
   "source": [
    "print gr.grid\n",
    "print gr.var_names\n"
   ]
  },
  {
   "cell_type": "code",
   "execution_count": 11,
   "metadata": {},
   "outputs": [
    {
     "name": "stdout",
     "output_type": "stream",
     "text": [
      "gridded.variable.Variable(name=\"potential temperature\", time=\"<gridded.time.Time object at 0x10f4d2590>\", units=\"Celsius\", data=\"<type 'netCDF4._netCDF4.Variable'>\n",
      "float32 temp(ocean_time, s_rho, eta_rho, xi_rho)\n",
      "    _FillValue: 1e+37\n",
      "    long_name: potential temperature\n",
      "    units: Celsius\n",
      "    time: ocean_time\n",
      "    field: temperature, scalar, series\n",
      "    _ChunkSizes: [  1  15  96 336]\n",
      "    coordinates: lat_rho lon_rho\n",
      "unlimited dimensions: \n",
      "current shape = (2, 30, 191, 671)\n",
      "filling on\", )\n"
     ]
    }
   ],
   "source": [
    "temp = gr.variables['temp']\n",
    "print temp"
   ]
  },
  {
   "cell_type": "code",
   "execution_count": 12,
   "metadata": {},
   "outputs": [
    {
     "data": {
      "text/plain": [
       "{u'_ChunkSizes': array([  1,  15,  96, 336], dtype=int32),\n",
       " u'_FillValue': 9.9999999e+36,\n",
       " u'coordinates': u'lat_rho lon_rho',\n",
       " u'field': u'temperature, scalar, series',\n",
       " u'long_name': u'potential temperature',\n",
       " u'time': u'ocean_time',\n",
       " u'units': u'Celsius'}"
      ]
     },
     "execution_count": 12,
     "metadata": {},
     "output_type": "execute_result"
    }
   ],
   "source": [
    "temp.attributes\n",
    "\n"
   ]
  },
  {
   "cell_type": "code",
   "execution_count": 13,
   "metadata": {},
   "outputs": [
    {
     "data": {
      "text/plain": [
       "<gridded.grids.Grid_S at 0x103d096d0>"
      ]
     },
     "execution_count": 13,
     "metadata": {},
     "output_type": "execute_result"
    }
   ],
   "source": [
    "temp.grid\n"
   ]
  },
  {
   "cell_type": "code",
   "execution_count": 14,
   "metadata": {},
   "outputs": [
    {
     "data": {
      "text/plain": [
       "<bound method Variable.at of gridded.variable.Variable(name=\"potential temperature\", time=\"<gridded.time.Time object at 0x10f4d2590>\", units=\"Celsius\", data=\"<type 'netCDF4._netCDF4.Variable'>\n",
       "float32 temp(ocean_time, s_rho, eta_rho, xi_rho)\n",
       "    _FillValue: 1e+37\n",
       "    long_name: potential temperature\n",
       "    units: Celsius\n",
       "    time: ocean_time\n",
       "    field: temperature, scalar, series\n",
       "    _ChunkSizes: [  1  15  96 336]\n",
       "    coordinates: lat_rho lon_rho\n",
       "unlimited dimensions: \n",
       "current shape = (2, 30, 191, 671)\n",
       "filling on\", )>"
      ]
     },
     "execution_count": 14,
     "metadata": {},
     "output_type": "execute_result"
    }
   ],
   "source": [
    "temp.at"
   ]
  },
  {
   "cell_type": "code",
   "execution_count": 34,
   "metadata": {},
   "outputs": [
    {
     "data": {
      "text/plain": [
       "masked_array(data = [ 29.80330463  30.24135632  30.63252201  31.00917636  30.76952875\n",
       "  30.68456088  30.47418712  30.8093481   30.94115674  30.76274898\n",
       "  30.99039506  31.03058806  30.7750278   30.78124153  30.92527579\n",
       "  30.88342491  30.78658193  30.81712033  30.82765507  30.79029153\n",
       "  30.74963117  30.72336347  30.76975207  30.73624273  30.68629628\n",
       "  30.62974808  30.54755185  30.61558957  30.72715622  30.44956277\n",
       "  30.44901915  30.44388767  30.69501444  30.93710206  30.96097567\n",
       "  30.90159554  30.86851206  30.79160502  30.97258909  30.54069409\n",
       "  30.51213179  30.58056863  30.53819353  30.60672201  31.06036711\n",
       "  30.49484525  30.0423522   30.29803806  30.8063744   30.73725928],\n",
       "             mask = False,\n",
       "       fill_value = 1e+20)"
      ]
     },
     "execution_count": 34,
     "metadata": {},
     "output_type": "execute_result"
    }
   ],
   "source": [
    "\n",
    "lat = np.linspace(28, 29)\n",
    "lon = np.ones_like(lat) * -92.0\n",
    "depth = np.zeros_like(lat)- 5.0\n",
    "\n",
    "\n",
    "temp.at((lon, lat, depth), datetime.datetime(2016, 8, 1, 10))\n"
   ]
  },
  {
   "cell_type": "code",
   "execution_count": null,
   "metadata": {
    "collapsed": true
   },
   "outputs": [],
   "source": []
  }
 ],
 "metadata": {
  "kernelspec": {
   "display_name": "Python 2",
   "language": "python",
   "name": "python2"
  },
  "language_info": {
   "codemirror_mode": {
    "name": "ipython",
    "version": 2
   },
   "file_extension": ".py",
   "mimetype": "text/x-python",
   "name": "python",
   "nbconvert_exporter": "python",
   "pygments_lexer": "ipython2",
   "version": "2.7.13"
  }
 },
 "nbformat": 4,
 "nbformat_minor": 2
}
