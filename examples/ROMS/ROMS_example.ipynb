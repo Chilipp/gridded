{
 "cells": [
  {
   "cell_type": "markdown",
   "metadata": {},
   "source": [
    "# Example of working with ROMS output\n",
    "\n",
    "(only barely started)\n"
   ]
  },
  {
   "cell_type": "code",
   "execution_count": 14,
   "metadata": {},
   "outputs": [],
   "source": [
    "import numpy as np\n",
    "import datetime\n",
    "import gridded\n",
    "\n",
    "% matplotlib inline\n",
    "\n",
    "import matplotlib.pyplot as plt\n"
   ]
  },
  {
   "cell_type": "code",
   "execution_count": 4,
   "metadata": {},
   "outputs": [],
   "source": [
    "# load up the file\n",
    "\n",
    "filename = \"roms_tx_coast_2016-08-01.nc\"\n",
    "\n",
    "gr = gridded.Dataset(filename)\n"
   ]
  },
  {
   "cell_type": "code",
   "execution_count": 15,
   "metadata": {},
   "outputs": [
    {
     "name": "stdout",
     "output_type": "stream",
     "text": [
      "<gridded.grids.Grid_S object at 0x1191cf128>\n",
      "['h', 'f', 'pm', 'pn', 'angle', 'mask_rho', 'mask_u', 'mask_v', 'mask_psi', 'zeta', 'u', 'v', 'w', 'temp', 'salt', 'dye_01', 'dye_02', 'dye_03', 'dye_04', 'AKv', 'AKs', 'tke', 'gls', 'Uwind', 'Vwind', 'shflux', 'ssflux', 'sustr', 'svstr']\n"
     ]
    }
   ],
   "source": [
    "print(gr.grid)\n",
    "print(gr.var_names)\n"
   ]
  },
  {
   "cell_type": "code",
   "execution_count": 16,
   "metadata": {},
   "outputs": [
    {
     "name": "stdout",
     "output_type": "stream",
     "text": [
      "gridded.variable.Variable(name=\"potential temperature\", time=\"<gridded.time.Time object at 0x1191e8780>\", units=\"Celsius\", data=\"<class 'netCDF4._netCDF4.Variable'>\n",
      "float32 temp(ocean_time, s_rho, eta_rho, xi_rho)\n",
      "    _FillValue: 1e+37\n",
      "    long_name: potential temperature\n",
      "    units: Celsius\n",
      "    time: ocean_time\n",
      "    field: temperature, scalar, series\n",
      "    _ChunkSizes: [  1  15  96 336]\n",
      "    coordinates: lat_rho lon_rho\n",
      "unlimited dimensions: \n",
      "current shape = (2, 30, 191, 671)\n",
      "filling on\", )\n"
     ]
    }
   ],
   "source": [
    "temp = gr.variables['temp']\n",
    "print(temp)"
   ]
  },
  {
   "cell_type": "code",
   "execution_count": 17,
   "metadata": {},
   "outputs": [
    {
     "data": {
      "text/plain": [
       "{'_FillValue': 9.9999999e+36,\n",
       " 'long_name': 'potential temperature',\n",
       " 'units': 'Celsius',\n",
       " 'time': 'ocean_time',\n",
       " 'field': 'temperature, scalar, series',\n",
       " '_ChunkSizes': array([  1,  15,  96, 336], dtype=int32),\n",
       " 'coordinates': 'lat_rho lon_rho'}"
      ]
     },
     "execution_count": 17,
     "metadata": {},
     "output_type": "execute_result"
    }
   ],
   "source": [
    "temp.attributes\n",
    "\n"
   ]
  },
  {
   "cell_type": "code",
   "execution_count": 18,
   "metadata": {},
   "outputs": [
    {
     "data": {
      "text/plain": [
       "<gridded.grids.Grid_S at 0x1191cf128>"
      ]
     },
     "execution_count": 18,
     "metadata": {},
     "output_type": "execute_result"
    }
   ],
   "source": [
    "temp.grid\n"
   ]
  },
  {
   "cell_type": "markdown",
   "metadata": {},
   "source": [
    "## interpolating\n",
    "\n",
    "You can get the data interpolated witht the `.at` method:"
   ]
  },
  {
   "cell_type": "code",
   "execution_count": 24,
   "metadata": {},
   "outputs": [],
   "source": [
    "\n",
    "# grabbing a transect of the temperature:\n",
    "\n",
    "# create vectors for the points you want the data for\n",
    "lat = np.linspace(28, 29)\n",
    "lon = np.ones_like(lat) * -92.0\n",
    "\n",
    "# why is there an error when depth is all 0.0?\n",
    "# how else to get the surface value?\n",
    "# depth = np.zeros_like(lat)\n",
    "depth = np.zeros_like(lat) - 0.1\n",
    "\n",
    "\n",
    "x_section = temp.at((lon, lat, depth), datetime.datetime(2016, 8, 1, 10))\n"
   ]
  },
  {
   "cell_type": "code",
   "execution_count": 22,
   "metadata": {},
   "outputs": [
    {
     "data": {
      "text/plain": [
       "[<matplotlib.lines.Line2D at 0x128a7f630>]"
      ]
     },
     "execution_count": 22,
     "metadata": {},
     "output_type": "execute_result"
    },
    {
     "data": {
      "image/png": "[encoded data removed]",
      "text/plain": [
       "<Figure size 432x288 with 1 Axes>"
      ]
     },
     "metadata": {},
     "output_type": "display_data"
    }
   ],
   "source": [
    "fig, ax = plt.subplots()\n",
    "\n",
    "ax.plot(x_section)"
   ]
  },
  {
   "cell_type": "code",
   "execution_count": null,
   "metadata": {},
   "outputs": [],
   "source": []
  }
 ],
 "metadata": {
  "kernelspec": {
   "display_name": "Python 3",
   "language": "python",
   "name": "python3"
  },
  "language_info": {
   "codemirror_mode": {
    "name": "ipython",
    "version": 3
   },
   "file_extension": ".py",
   "mimetype": "text/x-python",
   "name": "python",
   "nbconvert_exporter": "python",
   "pygments_lexer": "ipython3",
   "version": "3.6.5"
  }
 },
 "nbformat": 4,
 "nbformat_minor": 2
}
